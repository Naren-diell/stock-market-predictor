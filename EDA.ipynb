# Exploratory Data Analysis for Stock Market

import pandas as pd
import matplotlib.pyplot as plt

df = pd.read_csv('../data/historical_data.csv')
df.plot(x='Date', y='Close', title='Close Price Over Time')
plt.show()